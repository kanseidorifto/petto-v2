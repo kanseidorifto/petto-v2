{
 "cells": [
  {
   "cell_type": "code",
   "execution_count": 1,
   "metadata": {},
   "outputs": [],
   "source": [
    "import pickle"
   ]
  },
  {
   "cell_type": "code",
   "execution_count": 2,
   "metadata": {},
   "outputs": [],
   "source": [
    "animal_species_list = pickle.load(\n",
    "    open('./animal_species_list.pkl', 'rb'))\n",
    "cat_breed_list = pickle.load(\n",
    "    open('./cat_breed_list.pkl', 'rb'))\n",
    "dog_breed_list = pickle.load(\n",
    "    open('./dog_breed_list.pkl', 'rb'))"
   ]
  },
  {
   "cell_type": "code",
   "execution_count": 3,
   "metadata": {},
   "outputs": [
    {
     "data": {
      "text/plain": [
       "['antelope',\n",
       " 'badger',\n",
       " 'bat',\n",
       " 'bear',\n",
       " 'bee',\n",
       " 'beetle',\n",
       " 'bison',\n",
       " 'boar',\n",
       " 'butterfly',\n",
       " 'cat',\n",
       " 'caterpillar',\n",
       " 'chimpanzee',\n",
       " 'cockroach',\n",
       " 'cow',\n",
       " 'coyote',\n",
       " 'crab',\n",
       " 'crow',\n",
       " 'deer',\n",
       " 'dog',\n",
       " 'dolphin',\n",
       " 'donkey',\n",
       " 'dragonfly',\n",
       " 'duck',\n",
       " 'eagle',\n",
       " 'elephant',\n",
       " 'flamingo',\n",
       " 'fly',\n",
       " 'fox',\n",
       " 'goat',\n",
       " 'goldfish',\n",
       " 'goose',\n",
       " 'gorilla',\n",
       " 'grasshopper',\n",
       " 'hamster',\n",
       " 'hare',\n",
       " 'hedgehog',\n",
       " 'hippopotamus',\n",
       " 'hornbill',\n",
       " 'horse',\n",
       " 'hummingbird',\n",
       " 'hyena',\n",
       " 'jellyfish',\n",
       " 'kangaroo',\n",
       " 'koala',\n",
       " 'ladybugs',\n",
       " 'leopard',\n",
       " 'lion',\n",
       " 'lizard',\n",
       " 'lobster',\n",
       " 'mosquito',\n",
       " 'moth',\n",
       " 'mouse',\n",
       " 'octopus',\n",
       " 'okapi',\n",
       " 'orangutan',\n",
       " 'otter',\n",
       " 'owl',\n",
       " 'ox',\n",
       " 'oyster',\n",
       " 'panda',\n",
       " 'parrot',\n",
       " 'pelecaniformes',\n",
       " 'penguin',\n",
       " 'pig',\n",
       " 'pigeon',\n",
       " 'porcupine',\n",
       " 'possum',\n",
       " 'raccoon',\n",
       " 'rat',\n",
       " 'reindeer',\n",
       " 'rhinoceros',\n",
       " 'sandpiper',\n",
       " 'seahorse',\n",
       " 'seal',\n",
       " 'shark',\n",
       " 'sheep',\n",
       " 'snake',\n",
       " 'sparrow',\n",
       " 'squid',\n",
       " 'squirrel',\n",
       " 'starfish',\n",
       " 'swan',\n",
       " 'tiger',\n",
       " 'turkey',\n",
       " 'turtle',\n",
       " 'whale',\n",
       " 'wolf',\n",
       " 'wombat',\n",
       " 'woodpecker',\n",
       " 'zebra']"
      ]
     },
     "execution_count": 3,
     "metadata": {},
     "output_type": "execute_result"
    }
   ],
   "source": [
    "animal_species_list"
   ]
  },
  {
   "cell_type": "code",
   "execution_count": 4,
   "metadata": {},
   "outputs": [],
   "source": [
    "animal_species_translation = {\n",
    "    'antelope': 'Антилопа',\n",
    "    'badger': 'Борсук',\n",
    "    'bat': 'Кажан',\n",
    "    'bear': 'Ведмідь',\n",
    "    'bee': 'Бджола',\n",
    "    'beetle': 'Жук',\n",
    "    'bison': 'Бізон',\n",
    "    'boar': 'Кабан',\n",
    "    'butterfly': 'Метелик',\n",
    "    'cat': 'Кіт',\n",
    "    'caterpillar': 'Гусінь',\n",
    "    'chimpanzee': 'Шимпанзе',\n",
    "    'cockroach': 'Таракан',\n",
    "    'cow': 'Корова',\n",
    "    'coyote': 'Койот',\n",
    "    'crab': 'Краб',\n",
    "    'crow': 'Ворона',\n",
    "    'deer': 'Олень',\n",
    "    'dog': 'Собака',\n",
    "    'dolphin': 'Дельфін',\n",
    "    'donkey': 'Осел',\n",
    "    'dragonfly': 'Бабка',\n",
    "    'duck': 'Качка',\n",
    "    'eagle': 'Орел',\n",
    "    'elephant': 'Слон',\n",
    "    'flamingo': 'Фламінго',\n",
    "    'fly': 'Муха',\n",
    "    'fox': 'Лисиця',\n",
    "    'goat': 'Коза',\n",
    "    'goldfish': 'Золота рибка',\n",
    "    'goose': 'Гуска',\n",
    "    'gorilla': 'Горила',\n",
    "    'grasshopper': 'Сарана',\n",
    "    'hamster': 'Хом\\'як',\n",
    "    'hare': 'Заєць',\n",
    "    'hedgehog': 'Їжак',\n",
    "    'hippopotamus': 'Гіпопотам',\n",
    "    'hornbill': 'Пташка-носоріг',\n",
    "    'horse': 'Кінь',\n",
    "    'hummingbird': 'Колібрі',\n",
    "    'hyena': 'Гієна',\n",
    "    'jellyfish': 'Медуза',\n",
    "    'kangaroo': 'Кенгуру',\n",
    "    'koala': 'Коала',\n",
    "    'ladybugs': 'Божа коровка',\n",
    "    'leopard': 'Леопард',\n",
    "    'lion': 'Лев',\n",
    "    'lizard': 'Ящірка',\n",
    "    'lobster': 'Лобстер',\n",
    "    'mosquito': 'Комар',\n",
    "    'moth': 'Моль',\n",
    "    'mouse': 'Миша',\n",
    "    'octopus': 'Осьминіг',\n",
    "    'okapi': 'Окапі',\n",
    "    'orangutan': 'Орангутан',\n",
    "    'otter': 'Видра',\n",
    "    'owl': 'Сова',\n",
    "    'ox': 'Віл',\n",
    "    'oyster': 'Устриця',\n",
    "    'panda': 'Панда',\n",
    "    'parrot': 'Папуга',\n",
    "    'pelecaniformes': 'Пелікан',\n",
    "    'penguin': 'Пінгвін',\n",
    "    'pig': 'Свиня',\n",
    "    'pigeon': 'Голуб',\n",
    "    'porcupine': 'Дикобраз',\n",
    "    'possum': 'Опосум',\n",
    "    'raccoon': 'Єнот',\n",
    "    'rat': 'Миша',\n",
    "    'reindeer': 'Олень',\n",
    "    'rhinoceros': 'Носоріг',\n",
    "    'sandpiper': 'Піщаник',\n",
    "    'seahorse': 'Морський коник',\n",
    "    'seal': 'Тюлень',\n",
    "    'shark': 'Акула',\n",
    "    'sheep': 'Вівця',\n",
    "    'snake': 'Змія',\n",
    "    'sparrow': 'Горобець',\n",
    "    'squid': 'Кальмар',\n",
    "    'squirrel': 'Білка',\n",
    "    'starfish': 'Морська зірка',\n",
    "    'swan': 'Лебідь',\n",
    "    'tiger': 'Тигр',\n",
    "    'turkey': 'Індик',\n",
    "    'turtle': 'Черепаха',\n",
    "    'whale': 'Кит',\n",
    "    'wolf': 'Вовк',\n",
    "    'wombat': 'Вомбат',\n",
    "    'woodpecker': 'Дятел',\n",
    "    'zebra': 'Зебра',\n",
    "}"
   ]
  },
  {
   "cell_type": "code",
   "execution_count": 5,
   "metadata": {},
   "outputs": [
    {
     "name": "stdout",
     "output_type": "stream",
     "text": [
      "['Антилопа', 'Борсук', 'Кажан', 'Ведмідь', 'Бджола', 'Жук', 'Бізон', 'Кабан', 'Метелик', 'Кіт', 'Гусінь', 'Шимпанзе', 'Таракан', 'Корова', 'Койот', 'Краб', 'Ворона', 'Олень', 'Собака', 'Дельфін', 'Осел', 'Бабка', 'Качка', 'Орел', 'Слон', 'Фламінго', 'Муха', 'Лисиця', 'Коза', 'Золота рибка', 'Гуска', 'Горила', 'Сарана', \"Хом'як\", 'Заєць', 'Їжак', 'Гіпопотам', 'Пташка-носоріг', 'Кінь', 'Колібрі', 'Гієна', 'Медуза', 'Кенгуру', 'Коала', 'Божа коровка', 'Леопард', 'Лев', 'Ящірка', 'Лобстер', 'Комар', 'Моль', 'Миша', 'Осьминіг', 'Окапі', 'Орангутан', 'Видра', 'Сова', 'Віл', 'Устриця', 'Панда', 'Папуга', 'Пелікан', 'Пінгвін', 'Свиня', 'Голуб', 'Дикобраз', 'Опосум', 'Єнот', 'Миша', 'Олень', 'Носоріг', 'Піщаник', 'Морський коник', 'Тюлень', 'Акула', 'Вівця', 'Змія', 'Горобець', 'Кальмар', 'Білка', 'Морська зірка', 'Лебідь', 'Тигр', 'Індик', 'Черепаха', 'Кит', 'Вовк', 'Вомбат', 'Дятел', 'Зебра']\n"
     ]
    }
   ],
   "source": [
    "translated_animal_breeds = [animal_species_translation.get(breed, breed) for breed in animal_species_translation]\n",
    "\n",
    "print(translated_animal_breeds)"
   ]
  },
  {
   "cell_type": "code",
   "execution_count": 6,
   "metadata": {},
   "outputs": [
    {
     "data": {
      "text/plain": [
       "['Abyssinian',\n",
       " 'Bengal',\n",
       " 'Birman',\n",
       " 'Bombay',\n",
       " 'British_Shorthair',\n",
       " 'Egyptian_Mau',\n",
       " 'Maine_Coon',\n",
       " 'Persian',\n",
       " 'Ragdoll',\n",
       " 'Russian_Blue',\n",
       " 'Siamese',\n",
       " 'Sphynx']"
      ]
     },
     "execution_count": 6,
     "metadata": {},
     "output_type": "execute_result"
    }
   ],
   "source": [
    "cat_breed_list"
   ]
  },
  {
   "cell_type": "code",
   "execution_count": 7,
   "metadata": {},
   "outputs": [],
   "source": [
    "cat_breeds_translation = {\n",
    "    'Abyssinian': 'Абіссінійська',\n",
    "    'Bengal': 'Бенгальська',\n",
    "    'Birman': 'Бірманська',\n",
    "    'Bombay': 'Бомбейська',\n",
    "    'British_Shorthair': 'Британська короткошерста',\n",
    "    'Egyptian_Mau': 'Єгипетська мау',\n",
    "    'Maine_Coon': 'Мейн-кун',\n",
    "    'Persian': 'Персидська',\n",
    "    'Ragdoll': 'Регдол',\n",
    "    'Russian_Blue': 'Російська голуба',\n",
    "    'Siamese': 'Сіамська',\n",
    "    'Sphynx': 'Сфінкс',\n",
    "}\n"
   ]
  },
  {
   "cell_type": "code",
   "execution_count": 8,
   "metadata": {},
   "outputs": [
    {
     "name": "stdout",
     "output_type": "stream",
     "text": [
      "['Абіссінійська', 'Бенгальська', 'Бірманська', 'Бомбейська', 'Британська короткошерста', 'Єгипетська мау', 'Мейн-кун', 'Персидська', 'Регдол', 'Російська голуба', 'Сіамська', 'Сфінкс']\n"
     ]
    }
   ],
   "source": [
    "translated_cat_breeds = [cat_breeds_translation.get(breed, breed) for breed in cat_breed_list]\n",
    "\n",
    "print(translated_cat_breeds)"
   ]
  },
  {
   "cell_type": "code",
   "execution_count": 9,
   "metadata": {},
   "outputs": [
    {
     "data": {
      "text/plain": [
       "['american_bulldog',\n",
       " 'american_pit_bull_terrier',\n",
       " 'basset_hound',\n",
       " 'beagle',\n",
       " 'boxer',\n",
       " 'chihuahua',\n",
       " 'english_cocker_spaniel',\n",
       " 'english_setter',\n",
       " 'german_shorthaired',\n",
       " 'great_pyrenees',\n",
       " 'havanese',\n",
       " 'japanese_chin',\n",
       " 'keeshond',\n",
       " 'leonberger',\n",
       " 'miniature_pinscher',\n",
       " 'newfoundland',\n",
       " 'pomeranian',\n",
       " 'pug',\n",
       " 'saint_bernard',\n",
       " 'samoyed',\n",
       " 'scottish_terrier',\n",
       " 'shiba_inu',\n",
       " 'staffordshire_bull_terrier',\n",
       " 'wheaten_terrier',\n",
       " 'yorkshire_terrier']"
      ]
     },
     "execution_count": 9,
     "metadata": {},
     "output_type": "execute_result"
    }
   ],
   "source": [
    "dog_breed_list"
   ]
  },
  {
   "cell_type": "code",
   "execution_count": 10,
   "metadata": {},
   "outputs": [],
   "source": [
    "dog_breeds_translation = {\n",
    "    'american_bulldog': 'Американський бульдог',\n",
    "    'american_pit_bull_terrier': 'Американський пітбуль-тер’єр',\n",
    "    'basset_hound': 'Басет-гаунд',\n",
    "    'beagle': 'Бігль',\n",
    "    'boxer': 'Боксер',\n",
    "    'chihuahua': 'Чихуахуа',\n",
    "    'english_cocker_spaniel': 'Англійський кокер-спаніель',\n",
    "    'english_setter': 'Англійський сеттер',\n",
    "    'german_shorthaired': 'Німецька короткошерста лягава',\n",
    "    'great_pyrenees': 'Велика піренейська гора',\n",
    "    'havanese': 'Гаванез',\n",
    "    'japanese_chin': 'Японський чін',\n",
    "    'keeshond': 'Кеесхонд',\n",
    "    'leonberger': 'Леонбергер',\n",
    "    'miniature_pinscher': 'Мініатюрний пінчер',\n",
    "    'newfoundland': 'Ньюфаундленд',\n",
    "    'pomeranian': 'Померанський',\n",
    "    'pug': 'Мопс',\n",
    "    'saint_bernard': 'Сен-Бернар',\n",
    "    'samoyed': 'Самоїд',\n",
    "    'scottish_terrier': 'Шотландський тер’єр',\n",
    "    'shiba_inu': 'Шіба-іну',\n",
    "    'staffordshire_bull_terrier': 'Стаффордширський бульдог',\n",
    "    'wheaten_terrier': 'Колоссій тер’єр',\n",
    "    'yorkshire_terrier': 'Йоркширський тер’єр',\n",
    "}\n"
   ]
  },
  {
   "cell_type": "code",
   "execution_count": 11,
   "metadata": {},
   "outputs": [
    {
     "name": "stdout",
     "output_type": "stream",
     "text": [
      "['Американський бульдог', 'Американський пітбуль-тер’єр', 'Басет-гаунд', 'Бігль', 'Боксер', 'Чихуахуа', 'Англійський кокер-спаніель', 'Англійський сеттер', 'Німецька короткошерста лягава', 'Велика піренейська гора', 'Гаванез', 'Японський чін', 'Кеесхонд', 'Леонбергер', 'Мініатюрний пінчер', 'Ньюфаундленд', 'Померанський', 'Мопс', 'Сен-Бернар', 'Самоїд', 'Шотландський тер’єр', 'Шіба-іну', 'Стаффордширський бульдог', 'Колоссій тер’єр', 'Йоркширський тер’єр']\n"
     ]
    }
   ],
   "source": [
    "translated_dog_breeds = [dog_breeds_translation.get(breed, breed) for breed in dog_breed_list]\n",
    "\n",
    "print(translated_dog_breeds)\n"
   ]
  },
  {
   "cell_type": "code",
   "execution_count": 12,
   "metadata": {},
   "outputs": [],
   "source": [
    "pickle.dump(translated_animal_breeds,\n",
    "            open('./animal_species_list.pkl', 'wb'))\n",
    "pickle.dump(translated_cat_breeds,\n",
    "            open('./cat_breed_list.pkl', 'wb'))\n",
    "pickle.dump(translated_dog_breeds,\n",
    "            open('./dog_breed_list.pkl', 'wb'))"
   ]
  }
 ],
 "metadata": {
  "kernelspec": {
   "display_name": ".venv",
   "language": "python",
   "name": "python3"
  },
  "language_info": {
   "codemirror_mode": {
    "name": "ipython",
    "version": 3
   },
   "file_extension": ".py",
   "mimetype": "text/x-python",
   "name": "python",
   "nbconvert_exporter": "python",
   "pygments_lexer": "ipython3",
   "version": "3.11.4"
  }
 },
 "nbformat": 4,
 "nbformat_minor": 2
}
